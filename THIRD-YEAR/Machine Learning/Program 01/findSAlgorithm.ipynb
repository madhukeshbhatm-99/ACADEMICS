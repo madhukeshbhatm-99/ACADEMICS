{
 "cells": [
  {
   "cell_type": "markdown",
   "metadata": {},
   "source": [
    "# Find S Algorithm\n",
    "\n",
    "### Implementation of Find S Algorithm using a simple dataset\n",
    "\n"
   ]
  },
  {
   "cell_type": "code",
   "execution_count": null,
   "metadata": {},
   "outputs": [],
   "source": [
    "import pandas as pd"
   ]
  },
  {
   "cell_type": "code",
   "execution_count": 3,
   "metadata": {},
   "outputs": [
    {
     "data": {
      "text/html": [
       "<div>\n",
       "<style scoped>\n",
       "    .dataframe tbody tr th:only-of-type {\n",
       "        vertical-align: middle;\n",
       "    }\n",
       "\n",
       "    .dataframe tbody tr th {\n",
       "        vertical-align: top;\n",
       "    }\n",
       "\n",
       "    .dataframe thead th {\n",
       "        text-align: right;\n",
       "    }\n",
       "</style>\n",
       "<table border=\"1\" class=\"dataframe\">\n",
       "  <thead>\n",
       "    <tr style=\"text-align: right;\">\n",
       "      <th></th>\n",
       "      <th>Weather</th>\n",
       "      <th>AirTemperature</th>\n",
       "      <th>Humidity</th>\n",
       "      <th>WaterTemperature</th>\n",
       "      <th>Wind</th>\n",
       "      <th>Goes out</th>\n",
       "    </tr>\n",
       "  </thead>\n",
       "  <tbody>\n",
       "    <tr>\n",
       "      <th>0</th>\n",
       "      <td>Sunny</td>\n",
       "      <td>Moderate</td>\n",
       "      <td>Normal</td>\n",
       "      <td>Warm</td>\n",
       "      <td>Strong</td>\n",
       "      <td>Yes</td>\n",
       "    </tr>\n",
       "    <tr>\n",
       "      <th>1</th>\n",
       "      <td>Sunny</td>\n",
       "      <td>High</td>\n",
       "      <td>Normal</td>\n",
       "      <td>Too Warm</td>\n",
       "      <td>Strong</td>\n",
       "      <td>No</td>\n",
       "    </tr>\n",
       "    <tr>\n",
       "      <th>2</th>\n",
       "      <td>Rainy</td>\n",
       "      <td>Low</td>\n",
       "      <td>High</td>\n",
       "      <td>Cold</td>\n",
       "      <td>Breezy</td>\n",
       "      <td>No</td>\n",
       "    </tr>\n",
       "    <tr>\n",
       "      <th>3</th>\n",
       "      <td>Rainy</td>\n",
       "      <td>High</td>\n",
       "      <td>High</td>\n",
       "      <td>Warm</td>\n",
       "      <td>Breezy</td>\n",
       "      <td>Yes</td>\n",
       "    </tr>\n",
       "    <tr>\n",
       "      <th>4</th>\n",
       "      <td>Snowy</td>\n",
       "      <td>Moderate</td>\n",
       "      <td>Normal</td>\n",
       "      <td>Cold</td>\n",
       "      <td>Strong</td>\n",
       "      <td>Yes</td>\n",
       "    </tr>\n",
       "  </tbody>\n",
       "</table>\n",
       "</div>"
      ],
      "text/plain": [
       "  Weather AirTemperature Humidity WaterTemperature    Wind Goes out\n",
       "0   Sunny       Moderate   Normal             Warm  Strong      Yes\n",
       "1   Sunny           High   Normal        Too Warm   Strong       No\n",
       "2   Rainy            Low     High             Cold  Breezy       No\n",
       "3   Rainy           High     High             Warm  Breezy      Yes\n",
       "4   Snowy       Moderate   Normal             Cold  Strong      Yes"
      ]
     },
     "execution_count": 3,
     "metadata": {},
     "output_type": "execute_result"
    }
   ],
   "source": [
    "weatherInfo = pd.read_csv('Data.csv')\n",
    "weatherInfo"
   ]
  },
  {
   "cell_type": "code",
   "execution_count": 16,
   "metadata": {},
   "outputs": [
    {
     "data": {
      "text/plain": [
       "array([['Sunny', 'Moderate', 'Normal', 'Warm', 'Strong'],\n",
       "       ['Sunny', 'High', 'Normal', 'Too Warm ', 'Strong'],\n",
       "       ['Rainy', 'Low', 'High', 'Cold', 'Breezy'],\n",
       "       ['Rainy', 'High', 'High', 'Warm', 'Breezy'],\n",
       "       ['Snowy', 'Moderate', 'Normal', 'Cold', 'Strong']], dtype=object)"
      ]
     },
     "execution_count": 16,
     "metadata": {},
     "output_type": "execute_result"
    }
   ],
   "source": [
    "import numpy as np\n",
    "data = np.array(weatherInfo)[:,:-1]\n",
    "data"
   ]
  },
  {
   "cell_type": "code",
   "execution_count": 18,
   "metadata": {},
   "outputs": [
    {
     "data": {
      "text/plain": [
       "array(['Yes', 'No', 'No', 'Yes', 'Yes'], dtype=object)"
      ]
     },
     "execution_count": 18,
     "metadata": {},
     "output_type": "execute_result"
    }
   ],
   "source": [
    "values = np.array(weatherInfo)[:,-1]\n",
    "values"
   ]
  },
  {
   "cell_type": "code",
   "execution_count": 34,
   "metadata": {},
   "outputs": [
    {
     "name": "stdout",
     "output_type": "stream",
     "text": [
      "Initial hypothesis: ['NULL', 'NULL', 'NULL', 'NULL', 'NULL']\n",
      "After 0 iteration in dataset, the hypothesis is: ['Sunny', 'Moderate', 'Normal', 'Warm', 'Strong']\n",
      "After 1 iteration in dataset, the hypothesis is: ['Sunny', 'Moderate', 'Normal', 'Warm', 'Strong']\n",
      "After 2 iteration in dataset, the hypothesis is: ['Sunny', 'Moderate', 'Normal', 'Warm', 'Strong']\n",
      "After 3 iteration in dataset, the hypothesis is: ['?', '?', '?', 'Warm', '?']\n",
      "After 4 iteration in dataset, the hypothesis is: ['?', '?', '?', '?', '?']\n",
      "Final hypothesis: ['?', '?', '?', '?', '?']\n"
     ]
    }
   ],
   "source": [
    "hypothesis = ['NULL'] * len(data[0])\n",
    "print('Initial hypothesis:', hypothesis)\n",
    "for j in range(0, len(values)):\n",
    "    if values[j] == 'Yes':\n",
    "        for i in range(0, len(data[0])):\n",
    "            if hypothesis[i] == 'NULL' or hypothesis[i] == data[j][i]:\n",
    "                hypothesis[i] = data[j][i]\n",
    "            else:\n",
    "                hypothesis[i] = '?'\n",
    "    print('After', j, 'iteration in dataset, the hypothesis is:', hypothesis)\n",
    "print('Final hypothesis:', hypothesis)"
   ]
  }
 ],
 "metadata": {
  "kernelspec": {
   "display_name": "Python 3",
   "language": "python",
   "name": "python3"
  },
  "language_info": {
   "codemirror_mode": {
    "name": "ipython",
    "version": 3
   },
   "file_extension": ".py",
   "mimetype": "text/x-python",
   "name": "python",
   "nbconvert_exporter": "python",
   "pygments_lexer": "ipython3",
   "version": "3.7.6"
  }
 },
 "nbformat": 4,
 "nbformat_minor": 4
}
