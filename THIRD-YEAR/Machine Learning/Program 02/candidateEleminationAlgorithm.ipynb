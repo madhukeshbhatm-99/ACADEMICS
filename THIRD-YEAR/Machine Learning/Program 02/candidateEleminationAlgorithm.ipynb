{
 "cells": [
  {
   "cell_type": "markdown",
   "metadata": {},
   "source": [
    "# Candidate Elemination Algorithm\n",
    "\n",
    "### Implementation of candidate elemination algorithm using a simple dataset\n",
    "\n"
   ]
  },
  {
   "cell_type": "code",
   "execution_count": 56,
   "metadata": {},
   "outputs": [],
   "source": [
    "import pandas as pd"
   ]
  },
  {
   "cell_type": "code",
   "execution_count": 57,
   "metadata": {},
   "outputs": [
    {
     "data": {
      "text/html": [
       "<div>\n",
       "<style scoped>\n",
       "    .dataframe tbody tr th:only-of-type {\n",
       "        vertical-align: middle;\n",
       "    }\n",
       "\n",
       "    .dataframe tbody tr th {\n",
       "        vertical-align: top;\n",
       "    }\n",
       "\n",
       "    .dataframe thead th {\n",
       "        text-align: right;\n",
       "    }\n",
       "</style>\n",
       "<table border=\"1\" class=\"dataframe\">\n",
       "  <thead>\n",
       "    <tr style=\"text-align: right;\">\n",
       "      <th></th>\n",
       "      <th>Weather</th>\n",
       "      <th>AirTemperature</th>\n",
       "      <th>Humidity</th>\n",
       "      <th>WaterTemperature</th>\n",
       "      <th>Wind</th>\n",
       "      <th>Goes out</th>\n",
       "    </tr>\n",
       "  </thead>\n",
       "  <tbody>\n",
       "    <tr>\n",
       "      <th>0</th>\n",
       "      <td>Sunny</td>\n",
       "      <td>Moderate</td>\n",
       "      <td>Normal</td>\n",
       "      <td>Warm</td>\n",
       "      <td>Strong</td>\n",
       "      <td>Yes</td>\n",
       "    </tr>\n",
       "    <tr>\n",
       "      <th>1</th>\n",
       "      <td>Sunny</td>\n",
       "      <td>High</td>\n",
       "      <td>Normal</td>\n",
       "      <td>Cold</td>\n",
       "      <td>Strong</td>\n",
       "      <td>No</td>\n",
       "    </tr>\n",
       "    <tr>\n",
       "      <th>2</th>\n",
       "      <td>Rainy</td>\n",
       "      <td>Moderate</td>\n",
       "      <td>High</td>\n",
       "      <td>Cold</td>\n",
       "      <td>Strong</td>\n",
       "      <td>No</td>\n",
       "    </tr>\n",
       "    <tr>\n",
       "      <th>3</th>\n",
       "      <td>Sunny</td>\n",
       "      <td>High</td>\n",
       "      <td>High</td>\n",
       "      <td>Warm</td>\n",
       "      <td>Strong</td>\n",
       "      <td>Yes</td>\n",
       "    </tr>\n",
       "    <tr>\n",
       "      <th>4</th>\n",
       "      <td>Sunny</td>\n",
       "      <td>Moderate</td>\n",
       "      <td>Normal</td>\n",
       "      <td>Cold</td>\n",
       "      <td>Strong</td>\n",
       "      <td>Yes</td>\n",
       "    </tr>\n",
       "  </tbody>\n",
       "</table>\n",
       "</div>"
      ],
      "text/plain": [
       "  Weather AirTemperature Humidity WaterTemperature    Wind Goes out\n",
       "0   Sunny       Moderate   Normal             Warm  Strong      Yes\n",
       "1   Sunny           High   Normal             Cold  Strong       No\n",
       "2   Rainy       Moderate     High             Cold  Strong       No\n",
       "3   Sunny           High     High             Warm  Strong      Yes\n",
       "4   Sunny       Moderate   Normal             Cold  Strong      Yes"
      ]
     },
     "execution_count": 57,
     "metadata": {},
     "output_type": "execute_result"
    }
   ],
   "source": [
    "goesOut = pd.read_csv(\"Data.csv\")\n",
    "goesOut"
   ]
  },
  {
   "cell_type": "code",
   "execution_count": 58,
   "metadata": {},
   "outputs": [
    {
     "data": {
      "text/plain": [
       "array([['Sunny', 'Moderate', 'Normal', 'Warm', 'Strong'],\n",
       "       ['Sunny', 'High', 'Normal', 'Cold', 'Strong'],\n",
       "       ['Rainy', 'Moderate', 'High', 'Cold', 'Strong'],\n",
       "       ['Sunny', 'High', 'High', 'Warm', 'Strong'],\n",
       "       ['Sunny', 'Moderate', 'Normal', 'Cold', 'Strong']], dtype=object)"
      ]
     },
     "execution_count": 58,
     "metadata": {},
     "output_type": "execute_result"
    }
   ],
   "source": [
    "import numpy as np\n",
    "data = np.array(goesOut)[:,:-1]\n",
    "data"
   ]
  },
  {
   "cell_type": "code",
   "execution_count": 59,
   "metadata": {},
   "outputs": [
    {
     "data": {
      "text/plain": [
       "array(['Yes', 'No', 'No', 'Yes', 'Yes'], dtype=object)"
      ]
     },
     "execution_count": 59,
     "metadata": {},
     "output_type": "execute_result"
    }
   ],
   "source": [
    "values = np.array(goesOut)[:,-1]\n",
    "values"
   ]
  },
  {
   "cell_type": "code",
   "execution_count": 62,
   "metadata": {},
   "outputs": [
    {
     "name": "stdout",
     "output_type": "stream",
     "text": [
      "Initial Specific Hypothesis: ['Sunny' 'Moderate' 'Normal' 'Warm' 'Strong']\n",
      "Initial General Hypothesis: [['?', '?', '?', '?', '?'], ['?', '?', '?', '?', '?'], ['?', '?', '?', '?', '?'], ['?', '?', '?', '?', '?'], ['?', '?', '?', '?', '?']]\n"
     ]
    }
   ],
   "source": [
    "specHypothesis = data[0].copy()\n",
    "genHypothesis = [['?' for i in range(len(specHypothesis))] for i in range(len(specHypothesis))]\n",
    "print(f\"Initial Specific Hypothesis: {specHypothesis}\")\n",
    "print(f\"Initial General Hypothesis: {genHypothesis}\")"
   ]
  },
  {
   "cell_type": "code",
   "execution_count": 63,
   "metadata": {
    "scrolled": false
   },
   "outputs": [
    {
     "name": "stdout",
     "output_type": "stream",
     "text": [
      "Iteration 0:\n",
      "Instance 0: ['Sunny' 'Moderate' 'Normal' 'Warm' 'Strong']\n",
      "This is a POSITIVE instance\n",
      "Specific Hypothesis after this iteration: ['Sunny' 'Moderate' 'Normal' 'Warm' 'Strong']\n",
      "General Hypothesis after this iteration: [['?', '?', '?', '?', '?'], ['?', '?', '?', '?', '?'], ['?', '?', '?', '?', '?'], ['?', '?', '?', '?', '?'], ['?', '?', '?', '?', '?']]\n",
      "\n",
      "Iteration 1:\n",
      "Instance 1: ['Sunny' 'High' 'Normal' 'Cold' 'Strong']\n",
      "This is a NEGATIVE instance\n",
      "Specific Hypothesis after this iteration: ['Sunny' 'Moderate' 'Normal' 'Warm' 'Strong']\n",
      "General Hypothesis after this iteration: [['?', '?', '?', '?', '?'], ['?', 'Moderate', '?', '?', '?'], ['?', '?', '?', '?', '?'], ['?', '?', '?', 'Warm', '?'], ['?', '?', '?', '?', '?']]\n",
      "\n",
      "Iteration 2:\n",
      "Instance 2: ['Rainy' 'Moderate' 'High' 'Cold' 'Strong']\n",
      "This is a NEGATIVE instance\n",
      "Specific Hypothesis after this iteration: ['Sunny' 'Moderate' 'Normal' 'Warm' 'Strong']\n",
      "General Hypothesis after this iteration: [['Sunny', '?', '?', '?', '?'], ['?', '?', '?', '?', '?'], ['?', '?', 'Normal', '?', '?'], ['?', '?', '?', 'Warm', '?'], ['?', '?', '?', '?', '?']]\n",
      "\n",
      "Iteration 3:\n",
      "Instance 3: ['Sunny' 'High' 'High' 'Warm' 'Strong']\n",
      "This is a POSITIVE instance\n",
      "Specific Hypothesis after this iteration: ['Sunny' '?' '?' 'Warm' 'Strong']\n",
      "General Hypothesis after this iteration: [['Sunny', '?', '?', '?', '?'], ['?', '?', '?', '?', '?'], ['?', '?', '?', '?', '?'], ['?', '?', '?', 'Warm', '?'], ['?', '?', '?', '?', '?']]\n",
      "\n",
      "Iteration 4:\n",
      "Instance 4: ['Sunny' 'Moderate' 'Normal' 'Cold' 'Strong']\n",
      "This is a POSITIVE instance\n",
      "Specific Hypothesis after this iteration: ['Sunny' '?' '?' '?' 'Strong']\n",
      "General Hypothesis after this iteration: [['Sunny', '?', '?', '?', '?'], ['?', '?', '?', '?', '?'], ['?', '?', '?', '?', '?'], ['?', '?', '?', '?', '?'], ['?', '?', '?', '?', '?']]\n",
      "\n"
     ]
    }
   ],
   "source": [
    "for i, h in enumerate(data):\n",
    "    print(f\"Iteration {i}:\")\n",
    "    print(f\"Instance {i}: {h}\")\n",
    "    if values[i] == \"Yes\":\n",
    "        print(\"This is a POSITIVE instance\")\n",
    "        for j in range(len(specHypothesis)):\n",
    "            if h[j] != specHypothesis[j]:\n",
    "                genHypothesis[j][j] = '?' \n",
    "                specHypothesis[j] = '?'\n",
    "    else:\n",
    "        print(\"This is a NEGATIVE instance\")\n",
    "        for j in range(len(specHypothesis)):\n",
    "            if h[j] != specHypothesis[j]:\n",
    "                genHypothesis[j][j] = specHypothesis[j]\n",
    "            else:\n",
    "                genHypothesis[j][j] = '?'\n",
    "    print(f\"Specific Hypothesis after this iteration: {specHypothesis}\")\n",
    "    print(f\"General Hypothesis after this iteration: {genHypothesis}\")\n",
    "    print()       "
   ]
  },
  {
   "cell_type": "code",
   "execution_count": 64,
   "metadata": {},
   "outputs": [
    {
     "name": "stdout",
     "output_type": "stream",
     "text": [
      "Final Specific Hypothesis: ['Sunny' '?' '?' '?' 'Strong']\n",
      "Final General Hypothesis: [['Sunny', '?', '?', '?', '?']]\n"
     ]
    }
   ],
   "source": [
    "indices = [i for i, val in enumerate(genHypothesis) if val == ['?','?','?','?','?']]\n",
    "for i in indices:\n",
    "    genHypothesis.remove(['?','?','?','?','?'])\n",
    "print(f\"Final Specific Hypothesis: {specHypothesis}\")\n",
    "print(f\"Final General Hypothesis: {genHypothesis}\")"
   ]
  }
 ],
 "metadata": {
  "kernelspec": {
   "display_name": "Python 3",
   "language": "python",
   "name": "python3"
  },
  "language_info": {
   "codemirror_mode": {
    "name": "ipython",
    "version": 3
   },
   "file_extension": ".py",
   "mimetype": "text/x-python",
   "name": "python",
   "nbconvert_exporter": "python",
   "pygments_lexer": "ipython3",
   "version": "3.8.3"
  }
 },
 "nbformat": 4,
 "nbformat_minor": 4
}
