{
 "cells": [
  {
   "cell_type": "markdown",
   "id": "45240c4a",
   "metadata": {},
   "source": [
    "# Linear Regression without builtins"
   ]
  },
  {
   "cell_type": "code",
   "execution_count": 4,
   "id": "af3cd485",
   "metadata": {},
   "outputs": [],
   "source": [
    "import numpy as np\n",
    "import pandas as pd"
   ]
  },
  {
   "cell_type": "code",
   "execution_count": 5,
   "id": "fc425e11",
   "metadata": {},
   "outputs": [
    {
     "data": {
      "text/html": [
       "<div>\n",
       "<style scoped>\n",
       "    .dataframe tbody tr th:only-of-type {\n",
       "        vertical-align: middle;\n",
       "    }\n",
       "\n",
       "    .dataframe tbody tr th {\n",
       "        vertical-align: top;\n",
       "    }\n",
       "\n",
       "    .dataframe thead th {\n",
       "        text-align: right;\n",
       "    }\n",
       "</style>\n",
       "<table border=\"1\" class=\"dataframe\">\n",
       "  <thead>\n",
       "    <tr style=\"text-align: right;\">\n",
       "      <th></th>\n",
       "      <th>name</th>\n",
       "      <th>math</th>\n",
       "      <th>cs</th>\n",
       "    </tr>\n",
       "  </thead>\n",
       "  <tbody>\n",
       "    <tr>\n",
       "      <th>0</th>\n",
       "      <td>david</td>\n",
       "      <td>92</td>\n",
       "      <td>98</td>\n",
       "    </tr>\n",
       "    <tr>\n",
       "      <th>1</th>\n",
       "      <td>laura</td>\n",
       "      <td>56</td>\n",
       "      <td>68</td>\n",
       "    </tr>\n",
       "    <tr>\n",
       "      <th>2</th>\n",
       "      <td>sanjay</td>\n",
       "      <td>88</td>\n",
       "      <td>81</td>\n",
       "    </tr>\n",
       "    <tr>\n",
       "      <th>3</th>\n",
       "      <td>wei</td>\n",
       "      <td>70</td>\n",
       "      <td>80</td>\n",
       "    </tr>\n",
       "    <tr>\n",
       "      <th>4</th>\n",
       "      <td>jeff</td>\n",
       "      <td>80</td>\n",
       "      <td>83</td>\n",
       "    </tr>\n",
       "    <tr>\n",
       "      <th>5</th>\n",
       "      <td>aamir</td>\n",
       "      <td>49</td>\n",
       "      <td>52</td>\n",
       "    </tr>\n",
       "    <tr>\n",
       "      <th>6</th>\n",
       "      <td>venkat</td>\n",
       "      <td>65</td>\n",
       "      <td>66</td>\n",
       "    </tr>\n",
       "    <tr>\n",
       "      <th>7</th>\n",
       "      <td>virat</td>\n",
       "      <td>35</td>\n",
       "      <td>30</td>\n",
       "    </tr>\n",
       "    <tr>\n",
       "      <th>8</th>\n",
       "      <td>arthur</td>\n",
       "      <td>66</td>\n",
       "      <td>68</td>\n",
       "    </tr>\n",
       "    <tr>\n",
       "      <th>9</th>\n",
       "      <td>paul</td>\n",
       "      <td>67</td>\n",
       "      <td>73</td>\n",
       "    </tr>\n",
       "  </tbody>\n",
       "</table>\n",
       "</div>"
      ],
      "text/plain": [
       "     name  math  cs\n",
       "0   david    92  98\n",
       "1   laura    56  68\n",
       "2  sanjay    88  81\n",
       "3     wei    70  80\n",
       "4    jeff    80  83\n",
       "5   aamir    49  52\n",
       "6  venkat    65  66\n",
       "7   virat    35  30\n",
       "8  arthur    66  68\n",
       "9    paul    67  73"
      ]
     },
     "execution_count": 5,
     "metadata": {},
     "output_type": "execute_result"
    }
   ],
   "source": [
    "df = pd.read_csv('test_scores.csv')\n",
    "df"
   ]
  },
  {
   "cell_type": "code",
   "execution_count": 6,
   "id": "a435d1ec",
   "metadata": {},
   "outputs": [
    {
     "data": {
      "text/plain": [
       "array([92, 56, 88, 70, 80, 49, 65, 35, 66, 67])"
      ]
     },
     "execution_count": 6,
     "metadata": {},
     "output_type": "execute_result"
    }
   ],
   "source": [
    "x = np.array(df['math'])\n",
    "x"
   ]
  },
  {
   "cell_type": "code",
   "execution_count": 7,
   "id": "e6cc950f",
   "metadata": {},
   "outputs": [
    {
     "data": {
      "text/plain": [
       "array([98, 68, 81, 80, 83, 52, 66, 30, 68, 73])"
      ]
     },
     "execution_count": 7,
     "metadata": {},
     "output_type": "execute_result"
    }
   ],
   "source": [
    "y = np.array(df['cs'])\n",
    "y"
   ]
  },
  {
   "cell_type": "markdown",
   "id": "a1ef59fc",
   "metadata": {},
   "source": [
    "### Gradient descent function:"
   ]
  },
  {
   "cell_type": "code",
   "execution_count": 8,
   "id": "a304cc3d",
   "metadata": {},
   "outputs": [],
   "source": [
    "import math\n",
    "m_curr = b_curr = 0\n",
    "iterations = 1000000\n",
    "n = len(x)\n",
    "learning_rate = 0.0002\n",
    "cost_previous = 0\n",
    "for i in range(iterations):\n",
    "    y_predicted = m_curr * x + b_curr\n",
    "    m_derivative = -(2/n) * sum(x * (y - y_predicted))\n",
    "    b_derivative = -(2/n) * sum(y - y_predicted)\n",
    "    m_curr = m_curr - learning_rate * m_derivative\n",
    "    b_curr = b_curr - learning_rate * b_derivative\n",
    "    cost = (1/n) * sum([val ** 2 for val in (y - y_predicted)])\n",
    "    if math.isclose(cost, cost_previous, rel_tol=1e-20):\n",
    "        break\n",
    "    cost_previous = cost\n",
    "#    print(f'Iteration {i}:  m = {m_curr}  b = {b_curr}  cost = {cost}')"
   ]
  },
  {
   "cell_type": "code",
   "execution_count": 9,
   "id": "10490c07",
   "metadata": {},
   "outputs": [],
   "source": [
    "def Linear_Regression(x_value):\n",
    "    y_value = m_curr * x_value + b_curr\n",
    "    return y_value"
   ]
  },
  {
   "cell_type": "code",
   "execution_count": 10,
   "id": "8cba1c8e",
   "metadata": {},
   "outputs": [
    {
     "name": "stdout",
     "output_type": "stream",
     "text": [
      "Enter the marks in math: 45\n",
      "The predicted marks in 'cs' is: 47.71330011964905 ~ 47\n"
     ]
    }
   ],
   "source": [
    "x_value = int(input('Enter the marks in math: '))\n",
    "y_value = Linear_Regression(x_value)\n",
    "print(f'The predicted marks in \\'cs\\' is: {y_value} ~ {math.floor(y_value)}')"
   ]
  }
 ],
 "metadata": {
  "kernelspec": {
   "display_name": "Python 3",
   "language": "python",
   "name": "python3"
  },
  "language_info": {
   "codemirror_mode": {
    "name": "ipython",
    "version": 3
   },
   "file_extension": ".py",
   "mimetype": "text/x-python",
   "name": "python",
   "nbconvert_exporter": "python",
   "pygments_lexer": "ipython3",
   "version": "3.8.8"
  }
 },
 "nbformat": 4,
 "nbformat_minor": 5
}
