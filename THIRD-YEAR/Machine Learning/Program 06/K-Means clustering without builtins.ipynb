{
 "cells": [
  {
   "cell_type": "markdown",
   "metadata": {},
   "source": [
    "# K-Means clustering without builtins"
   ]
  },
  {
   "cell_type": "code",
   "execution_count": 1,
   "metadata": {},
   "outputs": [],
   "source": [
    "import math; \n",
    "import sys;\n",
    "import pandas as pd\n",
    "import numpy as np\n",
    "from random import choice\n",
    "from matplotlib import pyplot\n",
    "from random import shuffle, uniform;"
   ]
  },
  {
   "cell_type": "code",
   "execution_count": 2,
   "metadata": {},
   "outputs": [],
   "source": [
    "def ReadData(fileName):\n",
    "    f = open(fileName,'r')\n",
    "    lines = f.read().splitlines()\n",
    "    f.close()\n",
    "\n",
    "    items = []\n",
    "\n",
    "    for i in range(1,len(lines)):\n",
    "        line = lines[i].split(',')\n",
    "        itemFeatures = []\n",
    "\n",
    "        for j in range(len(line)-1):\n",
    "            v = float(line[j])\n",
    "            itemFeatures.append(v)\n",
    "        items.append(itemFeatures)\n",
    "\n",
    "    shuffle(items)\n",
    "\n",
    "    return items"
   ]
  },
  {
   "cell_type": "code",
   "execution_count": 3,
   "metadata": {},
   "outputs": [],
   "source": [
    "def FindColMinMax(items):\n",
    "    n = len(items[0])\n",
    "    minima = [float('inf') for i in range(n)]\n",
    "    maxima = [float('-inf') -1 for i in range(n)]\n",
    "    \n",
    "    for item in items:\n",
    "        for f in range(len(item)):\n",
    "            if(item[f] < minima[f]):\n",
    "                minima[f] = item[f]\n",
    "            \n",
    "            if(item[f] > maxima[f]):\n",
    "                maxima[f] = item[f]\n",
    "\n",
    "    return minima,maxima"
   ]
  },
  {
   "cell_type": "code",
   "execution_count": 12,
   "metadata": {},
   "outputs": [],
   "source": [
    "def EuclideanDistance(x,y):\n",
    "    S = 0\n",
    "    for i in range(len(x)):\n",
    "        S += math.pow(x[i]-y[i],2)\n",
    "\n",
    "    return math.sqrt(S)"
   ]
  },
  {
   "cell_type": "code",
   "execution_count": 4,
   "metadata": {},
   "outputs": [],
   "source": [
    "def InitializeMeans(items,k,cMin,cMax):\n",
    "    f = len(items[0])\n",
    "    means = [[0 for i in range(f)] for j in range(k)]\n",
    "    \n",
    "    for mean in means:\n",
    "        for i in range(len(mean)):\n",
    "            mean[i] = uniform(cMin[i]+1,cMax[i]-1)\n",
    "\n",
    "    return means"
   ]
  },
  {
   "cell_type": "code",
   "execution_count": 5,
   "metadata": {},
   "outputs": [],
   "source": [
    "def UpdateMean(n,mean,item):\n",
    "    for i in range(len(mean)):\n",
    "        m = mean[i]\n",
    "        m = (m*(n-1)+item[i])/float(n)\n",
    "        mean[i] = round(m,3)\n",
    "    \n",
    "    return mean"
   ]
  },
  {
   "cell_type": "code",
   "execution_count": 6,
   "metadata": {},
   "outputs": [],
   "source": [
    "def FindClusters(means,items):\n",
    "    clusters = [[] for i in range(len(means))]\n",
    "    \n",
    "    for item in items:\n",
    "        index = Classify(means,item)\n",
    "        clusters[index].append(item)\n",
    "\n",
    "    return clusters"
   ]
  },
  {
   "cell_type": "code",
   "execution_count": 7,
   "metadata": {},
   "outputs": [],
   "source": [
    "def Classify(means,item):\n",
    "    \n",
    "    minimum = float('inf');\n",
    "    index = -1\n",
    "\n",
    "    for i in range(len(means)):\n",
    "        dis = EuclideanDistance(item,means[i])\n",
    "\n",
    "        if(dis < minimum):\n",
    "            minimum = dis\n",
    "            index = i\n",
    "    \n",
    "    return index"
   ]
  },
  {
   "cell_type": "code",
   "execution_count": 8,
   "metadata": {},
   "outputs": [],
   "source": [
    "def CalculateMeans(k,items,maxIterations=100000):\n",
    "    cMin, cMax = FindColMinMax(items)\n",
    "   \n",
    "    means = InitializeMeans(items,k,cMin,cMax)\n",
    "    \n",
    "    clusterSizes = [0 for i in range(len(means))]\n",
    "\n",
    "    belongsTo = [0 for i in range(len(items))]\n",
    "\n",
    "    for e in range(maxIterations):\n",
    "        noChange = True;\n",
    "        for i in range(len(items)):\n",
    "            item = items[i];\n",
    "            index = Classify(means,item)\n",
    "            clusterSizes[index] += 1\n",
    "            cSize = clusterSizes[index]\n",
    "            means[index] = UpdateMean(cSize,means[index],item)\n",
    "  \n",
    "            if(index != belongsTo[i]):\n",
    "                noChange = False\n",
    "            belongsTo[i] = index\n",
    "  \n",
    "        if (noChange):\n",
    "            break\n",
    "  \n",
    "    return means"
   ]
  },
  {
   "cell_type": "code",
   "execution_count": 9,
   "metadata": {},
   "outputs": [],
   "source": [
    "def CutToTwoFeatures(items,indexA,indexB):\n",
    "    n = len(items)\n",
    "    X = []\n",
    "    for i in range(n):\n",
    "        item = items[i]\n",
    "        newItem = [item[indexA],item[indexB]]\n",
    "        X.append(newItem)\n",
    "\n",
    "    return X"
   ]
  },
  {
   "cell_type": "code",
   "execution_count": 10,
   "metadata": {},
   "outputs": [],
   "source": [
    "def PlotClusters(clusters):\n",
    "    n = len(clusters)\n",
    "    X = [[] for i in range(n)]\n",
    "\n",
    "    for i in range(n):\n",
    "        cluster = clusters[i]\n",
    "        for item in cluster:\n",
    "            X[i].append(item)\n",
    "\n",
    "    colors = ['r','b','g','c','m','y']\n",
    "\n",
    "    for x in X:\n",
    "        c = choice(colors)\n",
    "        colors.remove(c)\n",
    "\n",
    "        Xa = []\n",
    "        Xb = []\n",
    "\n",
    "        for item in x:\n",
    "            Xa.append(item[0])\n",
    "            Xb.append(item[1])\n",
    "\n",
    "        pyplot.plot(Xa,Xb,'o',color=c)\n",
    "\n",
    "    pyplot.show()"
   ]
  },
  {
   "cell_type": "code",
   "execution_count": 16,
   "metadata": {},
   "outputs": [
    {
     "name": "stdout",
     "output_type": "stream",
     "text": [
      "[[6.7, 2.0], [4.7, 1.2], [5.1, 1.9], [5.8, 1.8], [4.0, 1.3], [4.8, 1.4], [5.9, 2.3], [1.4, 0.2], [4.4, 1.4], [5.5, 2.1], [5.1, 1.8], [1.2, 0.2], [5.0, 2.0], [1.0, 0.2], [5.0, 1.5], [1.4, 0.2], [4.8, 1.8], [1.9, 0.2], [4.0, 1.0], [4.9, 1.5], [6.1, 1.9], [5.2, 2.3], [5.1, 1.9], [1.5, 0.2], [5.6, 2.1], [5.3, 2.3], [1.5, 0.1], [4.8, 1.8], [4.8, 1.8], [1.6, 0.2], [5.0, 1.7], [5.0, 1.9], [4.2, 1.5], [3.3, 1.0], [4.7, 1.6], [4.7, 1.5], [4.1, 1.3], [4.0, 1.3], [1.5, 0.2], [1.6, 0.6], [6.6, 2.1], [1.5, 0.4], [4.5, 1.5], [5.9, 2.1], [1.4, 0.2], [5.8, 2.2], [4.1, 1.0], [4.6, 1.5], [5.2, 2.0], [3.9, 1.2], [1.4, 0.2], [4.5, 1.5], [3.5, 1.0], [6.1, 2.5], [5.6, 1.8], [5.6, 2.4], [5.7, 2.3], [1.5, 0.1], [1.5, 0.3], [1.3, 0.3], [1.5, 0.4], [1.3, 0.2], [6.4, 2.0], [5.1, 2.3], [3.3, 1.0], [4.9, 2.0], [6.7, 2.2], [1.1, 0.1], [1.5, 0.2], [4.0, 1.3], [1.9, 0.4], [1.3, 0.2], [1.6, 0.2], [1.4, 0.3], [4.4, 1.2], [1.5, 0.4], [1.3, 0.2], [3.7, 1.0], [4.3, 1.3], [4.9, 1.5], [3.5, 1.0], [4.4, 1.3], [4.1, 1.3], [1.4, 0.1], [4.0, 1.2], [1.5, 0.2], [1.3, 0.4], [5.6, 2.2], [3.8, 1.1], [1.5, 0.2], [1.5, 0.1], [4.5, 1.5], [4.9, 1.8], [5.7, 2.1], [5.6, 1.4], [5.4, 2.3], [4.5, 1.7], [5.1, 2.0], [3.6, 1.3], [4.2, 1.2], [1.3, 0.2], [1.2, 0.2], [1.6, 0.2], [1.6, 0.4], [5.1, 2.4], [4.7, 1.4], [1.7, 0.3], [3.0, 1.1], [5.6, 2.4], [1.5, 0.2], [1.6, 0.2], [5.1, 1.6], [4.7, 1.4], [4.5, 1.6], [4.6, 1.4], [1.4, 0.3], [3.9, 1.1], [5.5, 1.8], [1.4, 0.2], [5.8, 1.6], [4.5, 1.3], [5.5, 1.8], [5.4, 2.1], [6.0, 2.5], [4.5, 1.5], [1.7, 0.5], [3.9, 1.4], [1.5, 0.1], [6.1, 2.3], [5.7, 2.5], [4.3, 1.3], [1.3, 0.3], [1.7, 0.4], [6.3, 1.8], [4.4, 1.4], [6.0, 1.8], [1.6, 0.2], [4.2, 1.3], [1.4, 0.2], [1.4, 0.2], [6.9, 2.3], [4.5, 1.5], [1.4, 0.3], [5.1, 1.5], [5.3, 1.9], [4.9, 1.8], [4.6, 1.3], [4.2, 1.3], [1.7, 0.2]]\n",
      "\n",
      "Means =  [[4.352, 1.388], [5.689, 2.082], [1.47, 0.261]]\n",
      "2\n"
     ]
    }
   ],
   "source": [
    "items = ReadData('data.txt')\n",
    "k = 3\n",
    "items = CutToTwoFeatures(items,2,3)\n",
    "print(items)\n",
    "means = CalculateMeans(k,items)\n",
    "print(\"\\nMeans = \", means)\n",
    "\n",
    "clusters = FindClusters(means,items)\n",
    "    \n",
    "#PlotClusters(clusters)\n",
    "newItem = [1.5,0.2]\n",
    "print(Classify(means,newItem))"
   ]
  }
 ],
 "metadata": {
  "kernelspec": {
   "display_name": "Python 3",
   "language": "python",
   "name": "python3"
  },
  "language_info": {
   "codemirror_mode": {
    "name": "ipython",
    "version": 3
   },
   "file_extension": ".py",
   "mimetype": "text/x-python",
   "name": "python",
   "nbconvert_exporter": "python",
   "pygments_lexer": "ipython3",
   "version": "3.8.8"
  }
 },
 "nbformat": 4,
 "nbformat_minor": 4
}
