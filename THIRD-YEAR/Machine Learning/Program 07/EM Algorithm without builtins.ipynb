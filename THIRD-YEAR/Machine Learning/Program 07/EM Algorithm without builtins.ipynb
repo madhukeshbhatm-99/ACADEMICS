{
 "cells": [
  {
   "cell_type": "markdown",
   "id": "a62534a8",
   "metadata": {},
   "source": [
    "# EM Algorithm without builtins"
   ]
  },
  {
   "cell_type": "code",
   "execution_count": 1,
   "id": "91d22f3a",
   "metadata": {},
   "outputs": [],
   "source": [
    "import numpy as np\n",
    "from scipy import stats\n",
    "np.random.seed(110)"
   ]
  },
  {
   "cell_type": "code",
   "execution_count": 2,
   "id": "65e05af8",
   "metadata": {},
   "outputs": [],
   "source": [
    "red_mean = 3\n",
    "red_std = 0.8\n",
    "blue_mean = 7\n",
    "blue_std = 1"
   ]
  },
  {
   "cell_type": "code",
   "execution_count": 3,
   "id": "7dcb011c",
   "metadata": {},
   "outputs": [],
   "source": [
    "red = np.random.normal(red_mean, red_std, size=40)\n",
    "blue = np.random.normal(blue_mean, blue_std, size=40)\n",
    "both_colours = np.sort(np.concatenate((red, blue)))"
   ]
  },
  {
   "cell_type": "code",
   "execution_count": 4,
   "id": "62ab08d6",
   "metadata": {},
   "outputs": [],
   "source": [
    "red_mean_guess = 2.1\n",
    "blue_mean_guess = 6\n",
    "red_std_guess = 1.5\n",
    "blue_std_guess = 0.8"
   ]
  },
  {
   "cell_type": "code",
   "execution_count": 5,
   "id": "c504c2bc",
   "metadata": {},
   "outputs": [],
   "source": [
    "for i in range(10):\n",
    "    likelihood_of_red = stats.norm(red_mean_guess, red_std_guess).pdf(both_colours)\n",
    "    likelihood_of_blue = stats.norm(blue_mean_guess,blue_std_guess).pdf(both_colours)"
   ]
  },
  {
   "cell_type": "code",
   "execution_count": 10,
   "id": "cf45fbfc",
   "metadata": {},
   "outputs": [],
   "source": [
    "likelihood_total = likelihood_of_red + likelihood_of_blue\n",
    "red_weight = likelihood_of_red / likelihood_total\n",
    "blue_weight = likelihood_of_blue / likelihood_total"
   ]
  },
  {
   "cell_type": "code",
   "execution_count": 11,
   "id": "9bf2c459",
   "metadata": {},
   "outputs": [],
   "source": [
    "def estimate_mean(data, weight):\n",
    "    return np.sum(data * weight) / np.sum(weight)"
   ]
  },
  {
   "cell_type": "code",
   "execution_count": 12,
   "id": "a7ee64e7",
   "metadata": {},
   "outputs": [],
   "source": [
    "def estimate_std(data, weight, mean):\n",
    "    variance = np.sum(weight * (data - mean)**2) / np.sum(weight)\n",
    "    return np.sqrt(variance)"
   ]
  },
  {
   "cell_type": "code",
   "execution_count": 15,
   "id": "062ac8b1",
   "metadata": {},
   "outputs": [
    {
     "name": "stdout",
     "output_type": "stream",
     "text": [
      "red mean: 2.8939486098495264               blue mean: 6.817385954777204\n",
      "red std: 0.878660944654475                 blue std: 1.0501824727778526\n"
     ]
    }
   ],
   "source": [
    "blue_std_guess = estimate_std(both_colours, blue_weight, blue_mean_guess)\n",
    "red_std_guess = estimate_std(both_colours, red_weight, red_mean_guess)\n",
    "\n",
    "red_mean_guess = estimate_mean(both_colours, red_weight)\n",
    "blue_mean_guess = estimate_mean(both_colours, blue_weight)\n",
    "\n",
    "print(\"red mean:\", red_mean_guess, \"             \", \"blue mean:\", blue_mean_guess)\n",
    "print(\"red std:\", red_std_guess, \"               \", \"blue std:\", blue_std_guess)"
   ]
  },
  {
   "cell_type": "code",
   "execution_count": 20,
   "id": "4aa45d96",
   "metadata": {},
   "outputs": [
    {
     "data": {
      "image/png": "[encoded data removed]",
      "text/plain": [
       "<Figure size 432x288 with 1 Axes>"
      ]
     },
     "metadata": {
      "needs_background": "light"
     },
     "output_type": "display_data"
    }
   ],
   "source": [
    "import matplotlib.pyplot as plt\n",
    "import numpy as np\n",
    "import matplotlib.mlab as mlab\n",
    "\n",
    "y = np.zeros(len(both_colours))\n",
    "mured = red_mean_guess\n",
    "sigmared = red_std_guess\n",
    "x = np.linspace(mured - 2.5*sigmared, mured + 2.5*sigmared, 100)\n",
    "plt.plot(x,stats.norm.pdf(x, mured, sigmared))\n",
    "mublue = blue_mean_guess\n",
    "sigmablue = blue_std_guess\n",
    "y = np.linspace(mublue - 2.5*sigmablue, mublue + 2.5*sigmablue, 100)\n",
    "plt.plot(y,stats.norm.pdf(y, mublue, sigmablue))\n",
    "\n",
    "for i in range(len(both_colours)):\n",
    "    plt.plot(both_colours[i],0,\"bo\")\n",
    "plt.show()"
   ]
  }
 ],
 "metadata": {
  "kernelspec": {
   "display_name": "Python 3",
   "language": "python",
   "name": "python3"
  },
  "language_info": {
   "codemirror_mode": {
    "name": "ipython",
    "version": 3
   },
   "file_extension": ".py",
   "mimetype": "text/x-python",
   "name": "python",
   "nbconvert_exporter": "python",
   "pygments_lexer": "ipython3",
   "version": "3.8.8"
  }
 },
 "nbformat": 4,
 "nbformat_minor": 5
}
