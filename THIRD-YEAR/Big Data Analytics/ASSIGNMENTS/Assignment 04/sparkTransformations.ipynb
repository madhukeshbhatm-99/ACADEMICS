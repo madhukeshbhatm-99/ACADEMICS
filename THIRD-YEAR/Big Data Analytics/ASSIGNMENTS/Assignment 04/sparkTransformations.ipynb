{
 "cells": [
  {
   "cell_type": "markdown",
   "id": "8130c6dc",
   "metadata": {},
   "source": [
    "# Spark transformations"
   ]
  },
  {
   "cell_type": "code",
   "execution_count": 55,
   "id": "89943566",
   "metadata": {},
   "outputs": [
    {
     "name": "stdout",
     "output_type": "stream",
     "text": [
      "The inputRDD elements are: "
     ]
    },
    {
     "data": {
      "text/plain": [
       "[1, 2, 3, 4, 5, 5, 7, 9, 9, 1]"
      ]
     },
     "execution_count": 55,
     "metadata": {},
     "output_type": "execute_result"
    }
   ],
   "source": [
    "inputRDD = sc.parallelize([1, 2, 3, 4, 5, 5, 7, 9, 9, 1])\n",
    "print('The inputRDD elements are: ', end='')\n",
    "inputRDD.collect()"
   ]
  },
  {
   "cell_type": "markdown",
   "id": "088cafd6",
   "metadata": {},
   "source": [
    "### Map transformation"
   ]
  },
  {
   "cell_type": "code",
   "execution_count": 56,
   "id": "c780164f",
   "metadata": {},
   "outputs": [
    {
     "name": "stdout",
     "output_type": "stream",
     "text": [
      "The mapRDD elements are: "
     ]
    },
    {
     "data": {
      "text/plain": [
       "[1, 4, 9, 16, 25, 25, 49, 81, 81, 1]"
      ]
     },
     "execution_count": 56,
     "metadata": {},
     "output_type": "execute_result"
    }
   ],
   "source": [
    "mapRDD = inputRDD.map(lambda x: x ** 2) # Squaring inputRDD\n",
    "print('The mapRDD elements are: ', end='')\n",
    "mapRDD.collect()"
   ]
  },
  {
   "cell_type": "markdown",
   "id": "0df6d098",
   "metadata": {},
   "source": [
    "### FlatMap transformation"
   ]
  },
  {
   "cell_type": "code",
   "execution_count": 57,
   "id": "472781d1",
   "metadata": {},
   "outputs": [
    {
     "name": "stdout",
     "output_type": "stream",
     "text": [
      "The flatMapRDD elements are: 1 1 11 2 4 12 3 9 13 4 "
     ]
    }
   ],
   "source": [
    "flatMapRDD = inputRDD.flatMap(lambda x: (x, x ** 2, x + 10))\n",
    "print('The flatMapRDD elements are: ', end='')\n",
    "for i in flatMapRDD.take(10):\n",
    "    print(i, end=' ')\n",
    "# flatMapRDD.collect()"
   ]
  },
  {
   "cell_type": "markdown",
   "id": "0cea2248",
   "metadata": {},
   "source": [
    "### Filter transformation"
   ]
  },
  {
   "cell_type": "code",
   "execution_count": 58,
   "id": "18f284aa",
   "metadata": {},
   "outputs": [
    {
     "name": "stdout",
     "output_type": "stream",
     "text": [
      "The filterRDD elements are: "
     ]
    },
    {
     "data": {
      "text/plain": [
       "[2, 4]"
      ]
     },
     "execution_count": 58,
     "metadata": {},
     "output_type": "execute_result"
    }
   ],
   "source": [
    "filterRDD = inputRDD.filter(lambda x: x % 2 == 0)  # filters RDD to have only even numbers\n",
    "print('The filterRDD elements are: ', end='')\n",
    "# for i in filterRDD.take(10):\n",
    "#     print(i, end=' ')\n",
    "filterRDD.collect()"
   ]
  },
  {
   "cell_type": "markdown",
   "id": "3d627675",
   "metadata": {},
   "source": [
    " ### Union transformation"
   ]
  },
  {
   "cell_type": "code",
   "execution_count": 59,
   "id": "1b768f90",
   "metadata": {},
   "outputs": [
    {
     "name": "stdout",
     "output_type": "stream",
     "text": [
      "The secInputRDD elements are: "
     ]
    },
    {
     "data": {
      "text/plain": [
       "[2, 8, 6, 9, 9, 10]"
      ]
     },
     "execution_count": 59,
     "metadata": {},
     "output_type": "execute_result"
    }
   ],
   "source": [
    "secInputRDD = sc.parallelize([2, 8, 6, 9, 9, 10])\n",
    "print('The secInputRDD elements are: ', end='')\n",
    "secInputRDD.collect()"
   ]
  },
  {
   "cell_type": "code",
   "execution_count": 60,
   "id": "b16ee5ab",
   "metadata": {},
   "outputs": [
    {
     "name": "stdout",
     "output_type": "stream",
     "text": [
      "After union of inputRDD and secInputRDD, elements are: "
     ]
    },
    {
     "data": {
      "text/plain": [
       "[1, 2, 3, 4, 5, 5, 7, 9, 9, 1, 2, 8, 6, 9, 9, 10]"
      ]
     },
     "execution_count": 60,
     "metadata": {},
     "output_type": "execute_result"
    }
   ],
   "source": [
    "unionRDD = inputRDD.union(secInputRDD)\n",
    "print('After union of inputRDD and secInputRDD, elements are: ', end='')\n",
    "# for i in unionRDD.take(20):\n",
    "#     print(i, end=' ')\n",
    "unionRDD.collect()"
   ]
  },
  {
   "cell_type": "markdown",
   "id": "2739973a",
   "metadata": {},
   "source": [
    "### Intersection transformation"
   ]
  },
  {
   "cell_type": "code",
   "execution_count": 61,
   "id": "b0eb4c35",
   "metadata": {},
   "outputs": [
    {
     "name": "stdout",
     "output_type": "stream",
     "text": [
      "After intersection of inputRDD and secInputRDD, elements are: "
     ]
    },
    {
     "data": {
      "text/plain": [
       "[9, 2]"
      ]
     },
     "execution_count": 61,
     "metadata": {},
     "output_type": "execute_result"
    }
   ],
   "source": [
    "intersectionRDD = inputRDD.intersection(secInputRDD)\n",
    "print('After intersection of inputRDD and secInputRDD, elements are: ', end='')\n",
    "intersectionRDD.collect()"
   ]
  },
  {
   "cell_type": "markdown",
   "id": "e495c4d1",
   "metadata": {},
   "source": [
    "### Distinct tranformation"
   ]
  },
  {
   "cell_type": "code",
   "execution_count": 62,
   "id": "e231f2b7",
   "metadata": {},
   "outputs": [
    {
     "name": "stdout",
     "output_type": "stream",
     "text": [
      "The distinctRDD elements are: "
     ]
    },
    {
     "data": {
      "text/plain": [
       "[4, 1, 5, 9, 2, 3, 7]"
      ]
     },
     "execution_count": 62,
     "metadata": {},
     "output_type": "execute_result"
    }
   ],
   "source": [
    "distinctRDD = inputRDD.distinct()\n",
    "print('The distinctRDD elements are: ', end='')\n",
    "distinctRDD.collect()"
   ]
  },
  {
   "cell_type": "markdown",
   "id": "c5f845ac",
   "metadata": {},
   "source": [
    "### Subtract transformation"
   ]
  },
  {
   "cell_type": "code",
   "execution_count": 63,
   "id": "aa4a818d",
   "metadata": {},
   "outputs": [
    {
     "name": "stdout",
     "output_type": "stream",
     "text": [
      "After subtraction of secInputRDD from inputRDD, elements are: "
     ]
    },
    {
     "data": {
      "text/plain": [
       "[1, 1, 3, 4, 5, 5, 7]"
      ]
     },
     "execution_count": 63,
     "metadata": {},
     "output_type": "execute_result"
    }
   ],
   "source": [
    "subtractRDD = inputRDD.subtract(secInputRDD)\n",
    "print('After subtraction of secInputRDD from inputRDD, elements are: ', end='')\n",
    "subtractRDD.collect()"
   ]
  },
  {
   "cell_type": "markdown",
   "id": "68d64850",
   "metadata": {},
   "source": [
    "### Cartesian transformation`"
   ]
  },
  {
   "cell_type": "code",
   "execution_count": 64,
   "id": "e6b65ac6",
   "metadata": {},
   "outputs": [
    {
     "name": "stdout",
     "output_type": "stream",
     "text": [
      "After cartesian of inputRDD and secInputRDD, elements are: \n",
      "(1, 2) (2, 2) (1, 8) (2, 8) (1, 6) (2, 6) (1, 9) (2, 9) (1, 9) (2, 9) (1, 10) (2, 10) (3, 2) (4, 2) (3, 8) (4, 8) (3, 6) (4, 6) (3, 9) (4, 9) (3, 9) (4, 9) (3, 10) (4, 10) (5, 2) (5, 2) (5, 8) (5, 8) (5, 6) (5, 6) (5, 9) (5, 9) (5, 9) (5, 9) (5, 10) (5, 10) (7, 2) (9, 2) (9, 2) (1, 2) (7, 8) (9, 8) (7, 6) (9, 6) (9, 8) (1, 8) (9, 6) (1, 6) (7, 9) (9, 9) (9, 9) (1, 9) (7, 9) (9, 9) (7, 10) (9, 10) (9, 9) (1, 9) (9, 10) (1, 10) "
     ]
    }
   ],
   "source": [
    "cartesianRDD = inputRDD.cartesian(secInputRDD)\n",
    "print('After cartesian of inputRDD and secInputRDD, elements are: ')\n",
    "# cartesianRDD.collect()\n",
    "for i in cartesianRDD.take(100):\n",
    "    print(i, end=' ')"
   ]
  }
 ],
 "metadata": {
  "kernelspec": {
   "display_name": "Python 3",
   "language": "python",
   "name": "python3"
  },
  "language_info": {
   "codemirror_mode": {
    "name": "ipython",
    "version": 3
   },
   "file_extension": ".py",
   "mimetype": "text/x-python",
   "name": "python",
   "nbconvert_exporter": "python",
   "pygments_lexer": "ipython3",
   "version": "3.8.8"
  }
 },
 "nbformat": 4,
 "nbformat_minor": 5
}
